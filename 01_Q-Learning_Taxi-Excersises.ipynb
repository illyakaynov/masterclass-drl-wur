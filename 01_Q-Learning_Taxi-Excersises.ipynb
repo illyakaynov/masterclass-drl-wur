{
 "cells": [
  {
   "cell_type": "markdown",
   "metadata": {},
   "source": [
    "<div align=\"center\">\n",
    "<a href=\"https://vbti.nl\"><img src=\"https://docs.google.com/uc?export=download&id=1DdCGllL51O5wBuiI0rwygofKx3YIDPHX\" width=\"400\"></a>\n",
    "</div>"
   ]
  },
  {
   "cell_type": "markdown",
   "metadata": {},
   "source": [
    "# Q-Learning in Taxi Environment\n",
    "In this notebook we will have a look at how Q-learning can help us solve the Taxi problem.\n",
    "\n",
    "Learning objectives:\n",
    "- Get familiar with OpenAI Gym interface\n",
    "- Understand the structure of Reinforcement Learning agent\n",
    "- Implement tabulra Q-learning algorithm"
   ]
  },
  {
   "cell_type": "code",
   "execution_count": 1,
   "metadata": {},
   "outputs": [],
   "source": [
    "%load_ext autoreload\n",
    "%autoreload 2"
   ]
  },
  {
   "cell_type": "code",
   "execution_count": 2,
   "metadata": {},
   "outputs": [],
   "source": [
    "import numpy as np\n",
    "\n",
    "import matplotlib.pyplot as plt\n",
    "\n",
    "import gym\n",
    "\n",
    "import seaborn as sns\n",
    "\n",
    "import time\n",
    "\n",
    "from collections import defaultdict\n",
    "\n",
    "from IPython import display\n",
    "from IPython.display import clear_output"
   ]
  },
  {
   "cell_type": "markdown",
   "metadata": {},
   "source": [
    "# Environment preparation\n",
    "In this example the [gym tool](https://gym.openai.com) is used to create a simulation environment in which an agent needs to learn a task. The environment used is called 'Taxi-v3'. In this toy environment the agents needs to drive a taxi to pick up and drop passengers. \n",
    "\n",
    "> There are 4 locations (labeled by different letters) and your job is to pick up the passenger at one location and drop him off in another. You receive +20 points for a successful dropoff, and lose 1 point for every timestep it takes. There is also a 10 point penalty for illegal pick-up and drop-off actions. (['Taxi-v3'](https://gym.openai.com/envs/Taxi-v3/))"
   ]
  },
  {
   "cell_type": "code",
   "execution_count": 3,
   "metadata": {
    "scrolled": true
   },
   "outputs": [
    {
     "name": "stdout",
     "output_type": "stream",
     "text": [
      "Number of actions : Discrete(6)\n",
      "Number of states  : Discrete(500)\n",
      "Initial state     : 274\n"
     ]
    }
   ],
   "source": [
    "# import and create the simulation environment\n",
    "import gym\n",
    "env = gym.make(\"Taxi-v3\")\n",
    "\n",
    "print(\"Number of actions : {}\".format(env.action_space))\n",
    "print(\"Number of states  : {}\".format(env.observation_space))\n",
    "\n",
    "initial_state = env.reset()\n",
    "print(\"Initial state     : {}\".format(initial_state))"
   ]
  },
  {
   "cell_type": "code",
   "execution_count": 4,
   "metadata": {
    "scrolled": true
   },
   "outputs": [
    {
     "name": "stdout",
     "output_type": "stream",
     "text": [
      "+---------+\n",
      "|R: | : :G|\n",
      "| : | : : |\n",
      "| : : :\u001b[43m \u001b[0m: |\n",
      "| | : | : |\n",
      "|\u001b[35mY\u001b[0m| : |\u001b[34;1mB\u001b[0m: |\n",
      "+---------+\n",
      "\n"
     ]
    }
   ],
   "source": [
    "# render environment\n",
    "env.render()"
   ]
  },
  {
   "cell_type": "markdown",
   "metadata": {},
   "source": [
    "## Running an episode\n",
    "Below we define a function to run one episode."
   ]
  },
  {
   "cell_type": "code",
   "execution_count": 5,
   "metadata": {},
   "outputs": [],
   "source": [
    "# Define loop for one episode\n",
    "def run_episode(env, agent, train=True, max_steps=100_000, render=False, sleep=.1):\n",
    "    done = False\n",
    "    score = 0\n",
    "    steps = 0\n",
    "    start_timer = time.time()\n",
    "\n",
    "    obs = env.reset()\n",
    "\n",
    "    while (not done) and (steps < max_steps):\n",
    "        # get action from the agent\n",
    "        action = agent.compute_action(obs)\n",
    "\n",
    "        # advance one step in the environment\n",
    "        next_obs, reward, done, info = env.step(action)\n",
    "\n",
    "        # update score\n",
    "        score += reward\n",
    "\n",
    "\n",
    "        if train:\n",
    "            # save the transition\n",
    "            agent.update(obs, action, reward, done, next_obs)\n",
    "\n",
    "        # update current state\n",
    "        obs = next_obs\n",
    "\n",
    "        steps += 1\n",
    "        \n",
    "        if render:\n",
    "            time.sleep(sleep)\n",
    "            clear_output(wait=True)\n",
    "            env.render()\n",
    "\n",
    "    # Call to clear internal agent statistics (reward, return, etc.)\n",
    "    agent.finalize_episode()\n",
    "\n",
    "    total_time = time.time() - start_timer\n",
    "    return {\n",
    "        \"score\": score,\n",
    "        \"steps_per_game\": steps,\n",
    "        \"framerate\": steps / (total_time + 1e-6),\n",
    "        \"time_per_game\": total_time,\n",
    "    }\n"
   ]
  },
  {
   "cell_type": "markdown",
   "metadata": {},
   "source": [
    "Lets define an abstract agent class that implements all neccessary methods."
   ]
  },
  {
   "cell_type": "code",
   "execution_count": 6,
   "metadata": {},
   "outputs": [],
   "source": [
    "class Agent:\n",
    "    \"\"\"\n",
    "    Interface for the agent class\n",
    "    \"\"\"\n",
    "\n",
    "    def compute_action(self, obs):\n",
    "        ...\n",
    "\n",
    "    def update(self, *args, **kwargs):\n",
    "        ...\n",
    "\n",
    "    def finalize_episode(self, *args, **kwargs):\n",
    "        ..."
   ]
  },
  {
   "cell_type": "markdown",
   "metadata": {},
   "source": [
    "## Baseline: Random Agent"
   ]
  },
  {
   "cell_type": "markdown",
   "metadata": {},
   "source": [
    "For testing our environment we are going to use a random agent."
   ]
  },
  {
   "cell_type": "code",
   "execution_count": 8,
   "metadata": {},
   "outputs": [],
   "source": [
    "class RandomAgent(Agent):\n",
    "    def __init__(self, n_actions):\n",
    "        self.n_actions = n_actions\n",
    "    \n",
    "    def compute_action(self, obs):\n",
    "        return np.random.randint(self.n_actions)"
   ]
  },
  {
   "cell_type": "code",
   "execution_count": 9,
   "metadata": {},
   "outputs": [],
   "source": [
    "env = gym.make(\"Taxi-v3\")\n",
    "\n",
    "n_actions = env.action_space.n\n",
    "random_agent = RandomAgent(n_actions)"
   ]
  },
  {
   "cell_type": "code",
   "execution_count": 10,
   "metadata": {},
   "outputs": [
    {
     "name": "stdout",
     "output_type": "stream",
     "text": [
      "+---------+\n",
      "|R: | :\u001b[43m \u001b[0m:\u001b[34;1mG\u001b[0m|\n",
      "| : | : : |\n",
      "| : : : : |\n",
      "| | : | : |\n",
      "|Y| : |\u001b[35mB\u001b[0m: |\n",
      "+---------+\n",
      "  (Dropoff)\n"
     ]
    },
    {
     "data": {
      "text/plain": [
       "{'score': -821,\n",
       " 'steps_per_game': 200,\n",
       " 'framerate': 9.169012028454627,\n",
       " 'time_per_game': 21.812599897384644}"
      ]
     },
     "execution_count": 10,
     "metadata": {},
     "output_type": "execute_result"
    }
   ],
   "source": [
    "run_episode(env, random_agent, render=True)"
   ]
  },
  {
   "cell_type": "markdown",
   "metadata": {},
   "source": [
    "It is also convenient to define a method to run several episodes in a row and plot some statistics."
   ]
  },
  {
   "cell_type": "code",
   "execution_count": 12,
   "metadata": {},
   "outputs": [],
   "source": [
    "# Define loop for multiple episodes\n",
    "def run_experiment(\n",
    "    env,\n",
    "    agent,\n",
    "    runs=100,\n",
    "    x_plot=None,\n",
    "    plot_stats=None,\n",
    "    history=defaultdict(list),\n",
    "    update_plot_period=1,\n",
    "    **kwargs,\n",
    "):\n",
    "\n",
    "    total_steps = 0\n",
    "    \n",
    "    # Initialize plots\n",
    "    if plot_stats:\n",
    "        num_plots = len(plot_stats)\n",
    "        fig, axs = plt.subplots(num_plots, 1, squeeze=False, figsize=(10, 5 * num_plots))\n",
    "        axs = axs.ravel()\n",
    "    \n",
    "    for i in range(runs):\n",
    "        # Run an episode\n",
    "        stats = run_episode(env, agent, **kwargs)\n",
    "\n",
    "        # Update history object\n",
    "        for k, v in stats.items():\n",
    "            if k not in history.keys():\n",
    "                history[k] = []\n",
    "            history[k].append(v)\n",
    "            \n",
    "        # record total steps per game\n",
    "        total_steps += history[\"steps_per_game\"][-1]\n",
    "        history[\"total_steps\"].append(total_steps)\n",
    "        \n",
    "        # plot statistics if neccessary\n",
    "        if plot_stats:\n",
    "            if i % update_plot_period == 0:\n",
    "                for ax, stat_name in zip(axs, plot_stats):\n",
    "                    ax.clear()\n",
    "                    if x_plot is None:\n",
    "                        sns.lineplot(\n",
    "                            x=np.arange(len(history[stat_name])), y=history[stat_name], ax=ax\n",
    "                        )\n",
    "                    else:\n",
    "                        sns.lineplot(x=history[x_plot], y=history[stat_name], ax=ax)\n",
    "                    ax.set_title(stat_name)\n",
    "                display.display(fig)\n",
    "                display.clear_output(wait=True)\n",
    "        else:\n",
    "            ...\n",
    "            print(f\"episode {i}/{runs} | {stats}\", )"
   ]
  },
  {
   "cell_type": "code",
   "execution_count": 13,
   "metadata": {},
   "outputs": [
    {
     "data": {
      "image/png": "[encoded data removed]",
      "text/plain": [
       "<Figure size 720x720 with 2 Axes>"
      ]
     },
     "metadata": {
      "needs_background": "light"
     },
     "output_type": "display_data"
    }
   ],
   "source": [
    "run_experiment(\n",
    "    env,\n",
    "    random_agent,\n",
    "    runs=2000,\n",
    "    plot_stats=['score', 'steps_per_game'],\n",
    "    update_plot_period=100\n",
    ")"
   ]
  },
  {
   "cell_type": "markdown",
   "metadata": {},
   "source": [
    "Random agent is not doing so well. But if we look at the \"steps_per_game\" we can see that sometimes it is able to successfully deliver a passanger. \n",
    "\n",
    "In RL it is important to set a baseline, so you can clearly see when you made an improvement. Random agent is a good baseline to start with.\n",
    "\n",
    "Lets try and improve it by using Tabular Q-learning algorithm."
   ]
  },
  {
   "cell_type": "markdown",
   "metadata": {},
   "source": [
    "# Build Q-learning Agent\n",
    "In the masterclass we have explaiuned how the Q-learning algorithm is working. Following this methods, an agent learns to evaluate a state-action combinations.\n",
    "\n",
    "To build your own agent you will need to implement an update rule:\n",
    "\n",
    "$$\n",
    "Q(S_t,A_t) \\leftarrow Q(S_t, A_t) + \\alpha \\left[ R_{t+1} +\\gamma \\max\\limits_{a} Q(S_{t+1},a) - Q(S_t,A_t) \\right]\n",
    "$$\n",
    "\n",
    "And exploitation rule:\n",
    "$$ \n",
    "A_t = \\operatorname{argmax}_a Q(S_t, a)\n",
    "$$"
   ]
  },
  {
   "cell_type": "code",
   "execution_count": 11,
   "metadata": {},
   "outputs": [],
   "source": [
    "class QAgent:\n",
    "    def __init__(\n",
    "        self, n_states, n_actions, epsilon=0.2, alpha=0.1, gamma=0.9):\n",
    "        self.epsilon = epsilon\n",
    "        self.alpha = alpha\n",
    "        self.gamma = gamma\n",
    "\n",
    "        self.n_actions = n_actions\n",
    "        self.n_states = n_states\n",
    "\n",
    "        self.q_table = np.zeros((self.n_states, self.n_actions), np.float)\n",
    "\n",
    "    def finalize_episode(self):\n",
    "        self.sum_rewards = 0\n",
    "        self.return_ = 0\n",
    "\n",
    "    def compute_action(self, obs):\n",
    "        # explore take a random action with p=epsilon\n",
    "        if np.random.random() < self.epsilon:\n",
    "            action = np.random.randint(self.n_actions)\n",
    "        else: # exploit\n",
    "            #---YOUR CODE HERE---#\n",
    "            ...\n",
    "        \n",
    "        return action\n",
    "\n",
    "    def update(self, obs, action, reward, done, next_obs):\n",
    "        #---YOUR CODE HERE---#\n",
    "        ...\n",
    "        "
   ]
  },
  {
   "cell_type": "markdown",
   "metadata": {},
   "source": [
    "Once you are finished filling the blanks, you can test your agent in the next cells."
   ]
  },
  {
   "cell_type": "code",
   "execution_count": 12,
   "metadata": {},
   "outputs": [],
   "source": [
    "env = gym.make(\"Taxi-v3\")\n",
    "\n",
    "n_states = env.observation_space.n\n",
    "n_actions = env.action_space.n\n",
    "\n",
    "agent = QAgent(n_states, n_actions, epsilon=0.1, alpha=0.1, gamma=0.99,)\n",
    "\n",
    "# create history dictionary so that you continue training and save the results\n",
    "history = defaultdict(list) "
   ]
  },
  {
   "cell_type": "code",
   "execution_count": null,
   "metadata": {},
   "outputs": [],
   "source": [
    "run_experiment(\n",
    "    env,\n",
    "    agent,\n",
    "    runs=2000,\n",
    "    x_plot=None,\n",
    "    plot_stats=['score', 'steps_per_game', 'total_steps'],\n",
    "    update_plot_period=100,\n",
    "    history=history)"
   ]
  },
  {
   "cell_type": "code",
   "execution_count": null,
   "metadata": {},
   "outputs": [],
   "source": [
    "run_episode(env, agent, render=True)"
   ]
  }
 ],
 "metadata": {
  "kernelspec": {
   "display_name": "Python 3",
   "language": "python",
   "name": "python3"
  },
  "language_info": {
   "codemirror_mode": {
    "name": "ipython",
    "version": 3
   },
   "file_extension": ".py",
   "mimetype": "text/x-python",
   "name": "python",
   "nbconvert_exporter": "python",
   "pygments_lexer": "ipython3",
   "version": "3.8.5"
  }
 },
 "nbformat": 4,
 "nbformat_minor": 4
}
